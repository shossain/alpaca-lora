{
 "cells": [
  {
   "cell_type": "code",
   "execution_count": 1,
   "id": "7695c19c-9044-4cc5-9fb4-f610cb36274b",
   "metadata": {
    "tags": []
   },
   "outputs": [
    {
     "name": "stderr",
     "output_type": "stream",
     "text": [
      "\u001b[34m\u001b[1mwandb\u001b[0m: Currently logged in as: \u001b[33mshossain035\u001b[0m. Use \u001b[1m`wandb login --relogin`\u001b[0m to force relogin\n"
     ]
    },
    {
     "data": {
      "text/html": [
       "wandb version 0.14.0 is available!  To upgrade, please run:\n",
       " $ pip install wandb --upgrade"
      ],
      "text/plain": [
       "<IPython.core.display.HTML object>"
      ]
     },
     "metadata": {},
     "output_type": "display_data"
    },
    {
     "data": {
      "text/html": [
       "Tracking run with wandb version 0.13.10"
      ],
      "text/plain": [
       "<IPython.core.display.HTML object>"
      ]
     },
     "metadata": {},
     "output_type": "display_data"
    },
    {
     "data": {
      "text/html": [
       "Run data is saved locally in <code>/Users/shah/Documents/GitHub/alpaca-lora/wandb/run-20230327_213801-bdhawiih</code>"
      ],
      "text/plain": [
       "<IPython.core.display.HTML object>"
      ]
     },
     "metadata": {},
     "output_type": "display_data"
    },
    {
     "data": {
      "text/html": [
       "Syncing run <strong><a href='https://wandb.ai/shossain035/alpaca-lora/runs/bdhawiih' target=\"_blank\">treasured-elevator-1</a></strong> to <a href='https://wandb.ai/shossain035/alpaca-lora' target=\"_blank\">Weights & Biases</a> (<a href='https://wandb.me/run' target=\"_blank\">docs</a>)<br/>"
      ],
      "text/plain": [
       "<IPython.core.display.HTML object>"
      ]
     },
     "metadata": {},
     "output_type": "display_data"
    },
    {
     "data": {
      "text/html": [
       " View project at <a href='https://wandb.ai/shossain035/alpaca-lora' target=\"_blank\">https://wandb.ai/shossain035/alpaca-lora</a>"
      ],
      "text/plain": [
       "<IPython.core.display.HTML object>"
      ]
     },
     "metadata": {},
     "output_type": "display_data"
    },
    {
     "data": {
      "text/html": [
       " View run at <a href='https://wandb.ai/shossain035/alpaca-lora/runs/bdhawiih' target=\"_blank\">https://wandb.ai/shossain035/alpaca-lora/runs/bdhawiih</a>"
      ],
      "text/plain": [
       "<IPython.core.display.HTML object>"
      ]
     },
     "metadata": {},
     "output_type": "display_data"
    },
    {
     "data": {
      "text/html": [
       "<button onClick=\"this.nextSibling.style.display='block';this.style.display='none';\">Display W&B run</button><iframe src='https://wandb.ai/shossain035/alpaca-lora/runs/bdhawiih?jupyter=true' style='border:none;width:100%;height:420px;display:none;'></iframe>"
      ],
      "text/plain": [
       "<wandb.sdk.wandb_run.Run at 0x7fe913baae30>"
      ]
     },
     "execution_count": 1,
     "metadata": {},
     "output_type": "execute_result"
    }
   ],
   "source": [
    "import wandb\n",
    "\n",
    "wandb.init()"
   ]
  },
  {
   "cell_type": "code",
   "execution_count": 2,
   "id": "95b0b86d-60bb-4e51-a41c-d4c9751fbd8f",
   "metadata": {
    "tags": []
   },
   "outputs": [],
   "source": [
    "wandb.sagemaker_auth(path=\"./\")"
   ]
  },
  {
   "cell_type": "code",
   "execution_count": 1,
   "id": "81801904-9f1d-4374-ba3c-695281058ee3",
   "metadata": {
    "tags": []
   },
   "outputs": [],
   "source": [
    "s3_bucket = \"unwind.dev.data\"\n",
    "# pretrained_model_name = 'deep-learning-analytics/segformer_semantic_segmentation'\n",
    "# pretrained_model_name = \"nvidia/mit-b3\"\n",
    "pretrained_model_name = \"decapoda-research/llama-13b-hf\"\n",
    "# pretrained_model_name = \"facebook/mask2former-swin-large-cityscapes-semantic\"\n",
    "# pretrained_model_name = \"facebook/mask2former-swin-base-IN21k-cityscapes-semantic\"\n",
    "# pretrained_model_name = \"openmmlab/upernet-swin-large\"\n",
    "# pretrained_model_name = \"openmmlab/upernet-swin-base\"\n",
    "# model_type = \"universal\"\n",
    "model_type = \"semantic_segmentation\"\n",
    "# dataset_name = \"aws-grey-sm-cp-1024-704\"\n",
    "# dataset_name = 'v-2-grey-lg-1024-704'\n",
    "\n",
    "dataset_name = \"alpaca-data-cleaned\"\n",
    "# dataset_name = 'v4-aws-tu-lg-cp-1024-1024'\n",
    "# dataset_name = 'aws-grey-sm-cp-1024-704'\n",
    "# s3_prefix_key = f'cv/segmentation/{dataset_name}_pre_crop_sample'\n",
    "s3_prefix_key = f\"cv/segmentation/{dataset_name}\"\n",
    "\n",
    "\n",
    "s3_prefix_upload = f\"s3://{s3_bucket}/{s3_prefix_key}\"\n",
    "training_input_path = f\"{s3_prefix_upload}/data/train/\"\n",
    "test_input_path = f\"{s3_prefix_upload}/data/test/\"\n",
    "s3_config_key = f\"{s3_prefix_key}/config/id2label.json\"\n",
    "# WANDB_PROJECT_NAME = \"aws-drone-seg-debug\"\n",
    "WANDB_PROJECT_NAME = \"alpoca-test\""
   ]
  },
  {
   "cell_type": "code",
   "execution_count": 2,
   "id": "a94f7c62-2e07-45a2-8baf-9b261933a4bd",
   "metadata": {
    "tags": []
   },
   "outputs": [],
   "source": [
    "base_job_prefix = \"llm-1\"\n",
    "\n",
    "# Hyperparameters which are passed into the training job\n",
    "hyperparameters = {\n",
    "    \"epochs\": 20,\n",
    "    \"train_batch_size\": 1,\n",
    "    \"eval_batch_size\": 4,\n",
    "    \"num_loader_workers\": 3,\n",
    "    \"model_name\": pretrained_model_name,\n",
    "    \"model_type\": model_type,\n",
    "    \"config_bucket\": s3_bucket,\n",
    "    \"config_key\": s3_config_key,\n",
    "    \"learning_rate\": 1e-6,\n",
    "    \"warmup_step_ratio\": 0.3,\n",
    "    # \"loss_type\": \"generalized_dice\",\n",
    "    # \"loss_type\": \"soft_dice\",\n",
    "    # \"loss_type\": \"weighted_ce\",\n",
    "    # \"loss_type\": \"lovasz_softmax\",\n",
    "    # \"loss_type\": \"combo\",\n",
    "    \"loss_type\": \"cross_entropy\",\n",
    "    # \"label_smoothing_factor\": 0.01,\n",
    "    # \"do_loss_weight_averaging\": True,\n",
    "    # \"do_full_train\": True,\n",
    "    # \"freeze_base_model\": True,\n",
    "    # \"checkpoint_index\": 4,\n",
    "    \"do_swa\": True,\n",
    "    \"swa_start_step_ratio\": 0.75,\n",
    "}"
   ]
  },
  {
   "cell_type": "code",
   "execution_count": 6,
   "id": "c6726b07-5937-45e3-957d-e682c14db289",
   "metadata": {
    "tags": []
   },
   "outputs": [],
   "source": [
    "from sagemaker import get_execution_role, Session\n",
    "\n",
    "# from sagemaker.huggingface import HuggingFace\n",
    "\n",
    "from sagemaker.pytorch import PyTorch\n",
    "\n",
    "import sagemaker\n",
    "import boto3\n",
    "import os\n",
    "\n",
    "from dotenv import load_dotenv\n",
    "\n",
    "load_dotenv(\"./.env\")\n",
    "\n",
    "iam_client = boto3.client(\"iam\")\n",
    "role = iam_client.get_role(RoleName=os.getenv(\"AWS_ROLE_NAME\"))[\"Role\"][\"Arn\"]\n",
    "# role = get_execution_role()\n",
    "\n",
    "sess = Session()\n",
    "sagemaker_session_bucket = None\n",
    "if sagemaker_session_bucket is None and sess is not None:\n",
    "    # set to default bucket if a bucket name is not given\n",
    "    sagemaker_session_bucket = sess.default_bucket()\n",
    "\n",
    "base_job_name = f\"{base_job_prefix}-{dataset_name}-{hyperparameters.get('model_name', '')}\".replace(\n",
    "    \"/\", \"-\"\n",
    ")\n",
    "hyperparameters[\"group_name\"] = base_job_name\n",
    "hyperparameters[\"project_name\"] = WANDB_PROJECT_NAME\n",
    "\n",
    "checkpoint_s3_uri = (\n",
    "    f\"s3://{sagemaker_session_bucket}/{base_job_name}/checkpoints\"\n",
    ")\n",
    "\n",
    "env = {\n",
    "    \"SAGEMAKER_REQUIREMENTS\": \"requirements.txt\",  # path relative to `source_dir` below.\n",
    "}\n",
    "\n",
    "# configuration for running training on smdistributed Data Parallel\n",
    "distribution = {\"smdistributed\": {\"dataparallel\": {\"enabled\": True}}}\n",
    "\n",
    "# spot config\n",
    "max_run = 86400 * 5\n",
    "max_wait = max_run + 3600\n",
    "\n",
    "hf_estimator = PyTorch(\n",
    "    entry_point=\"train.py\",\n",
    "    source_dir=\".\",\n",
    "    # instance\n",
    "    # instance_type='local',\n",
    "    # instance_type=\"ml.p3.2xlarge\",\n",
    "    # instance_type=\"ml.p3.8xlarge\",\n",
    "    # instance_type=\"ml.p3.16xlarge\",\n",
    "    # instance_type=\"ml.p3dn.24xlarge\",\n",
    "    # instance_type=\"ml.p4d.24xlarge\",\n",
    "    # instance_type=\"ml.g4dn.4xlarge\",\n",
    "    instance_type=\"ml.g5.xlarge\",\n",
    "    # instance_type=\"ml.trn1.2xlarge\",\n",
    "    # instance_type='local',\n",
    "    # instance_type=\"ml.g5.16xlarge\",\n",
    "    # instance_type=\"ml.g5.24xlarge\",\n",
    "    # instance_type=\"ml.p4d.24xlarge\",\n",
    "    # p3.16xlarge 8 X 128 spot $10\n",
    "    # instance_type=\"ml.g4dn.12xlarge\",\n",
    "    # volume_size=150,\n",
    "    max_run=max_run,\n",
    "    # cluster\n",
    "    instance_count=1,\n",
    "    # instance_count=2,\n",
    "    # distribution=distribution,\n",
    "    role=role,\n",
    "    env=env,\n",
    "    framework_version=\"1.13\",\n",
    "    py_version=\"py39\",\n",
    "    hyperparameters=hyperparameters,\n",
    "    # metric_definitions=metric_definitions,\n",
    "    base_job_name=base_job_name,\n",
    "    # spot settings\n",
    "    checkpoint_s3_uri=checkpoint_s3_uri,\n",
    "    use_spot_instances=True,  # enables spot training\n",
    "    max_wait=max_wait,  # max time including spot start + training time\n",
    ")"
   ]
  },
  {
   "cell_type": "code",
   "execution_count": 7,
   "id": "e8b51e1e-a558-4a6b-b7d0-1334633127cf",
   "metadata": {
    "tags": []
   },
   "outputs": [
    {
     "data": {
      "text/plain": [
       "'llm-1-alpaca-data-cleaned-decapoda-research-llama-13b-hf'"
      ]
     },
     "execution_count": 7,
     "metadata": {},
     "output_type": "execute_result"
    }
   ],
   "source": [
    "base_job_name"
   ]
  },
  {
   "cell_type": "code",
   "execution_count": 8,
   "id": "30055e56-b3c2-40a5-a49b-fd7ef2a047b5",
   "metadata": {
    "tags": []
   },
   "outputs": [
    {
     "name": "stderr",
     "output_type": "stream",
     "text": [
      "INFO:sagemaker.image_uris:image_uri is not presented, retrieving image_uri based on instance_type, framework etc.\n",
      "INFO:sagemaker:Creating training-job with name: llm-1-alpaca-data-cleaned-decapoda-rese-2023-03-30-00-25-12-751\n"
     ]
    }
   ],
   "source": [
    "# Start the training job with the uploaded dataset as input\n",
    "\n",
    "hf_estimator.fit(\n",
    "    {\n",
    "        \"train\": \"s3://unwind.dev.data/llm/alpaca_data_cleaned/\",\n",
    "        # \"test\": test_input_path,\n",
    "        # \"model\": \"s3://unwind.dev.data/cv/models/segformer-aws-drone/checkpoint-1988/\",\n",
    "        # \"model\": \"s3://unwind.dev.data/cv/models/mask2former-large/1675089631-10/\",\n",
    "        # \"model\": \"s3://unwind.dev.data/cv/models/segformer-aws-drone/best_model_6259/\",\n",
    "        # \"model\": \"s3://sagemaker-us-east-1-053991337303/s1e6-v3-grey-lg-cp-1024-1024-nvidia-mit-b5/checkpoints/0-29/\"\n",
    "        # \"model\": \"s3://sagemaker-us-east-1-053991337303/lovasz-v3-grey-lg-cp-1024-1024-nvidia-mit-b5/checkpoints/0-23/\",\n",
    "        # \"model\": \"s3://unwind.dev.data/cv/models/segformer-aws-drone/best_model_6488/\",\n",
    "        # \"model\": \"s3://unwind.dev.data/cv/models/segformer-aws-drone/classifier/\"\n",
    "    },\n",
    "    wait=False,\n",
    "    logs=\"Rules\",\n",
    ")"
   ]
  },
  {
   "cell_type": "code",
   "execution_count": null,
   "id": "e01ed498-e004-4296-bb53-2d243544c54c",
   "metadata": {},
   "outputs": [],
   "source": []
  },
  {
   "cell_type": "code",
   "execution_count": null,
   "id": "2154fd16-201d-44f5-a370-06f8bef9bed8",
   "metadata": {},
   "outputs": [],
   "source": []
  },
  {
   "cell_type": "code",
   "execution_count": null,
   "id": "9e0d23b6-f4f2-46b3-835d-6354a22f2b51",
   "metadata": {},
   "outputs": [],
   "source": []
  }
 ],
 "metadata": {
  "kernelspec": {
   "display_name": "sagemaker",
   "language": "python",
   "name": "sagemaker"
  },
  "language_info": {
   "codemirror_mode": {
    "name": "ipython",
    "version": 3
   },
   "file_extension": ".py",
   "mimetype": "text/x-python",
   "name": "python",
   "nbconvert_exporter": "python",
   "pygments_lexer": "ipython3",
   "version": "3.10.9"
  }
 },
 "nbformat": 4,
 "nbformat_minor": 5
}
