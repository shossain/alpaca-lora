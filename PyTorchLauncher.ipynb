{
 "cells": [
  {
   "cell_type": "code",
   "execution_count": 1,
   "id": "7695c19c-9044-4cc5-9fb4-f610cb36274b",
   "metadata": {
    "tags": []
   },
   "outputs": [
    {
     "name": "stderr",
     "output_type": "stream",
     "text": [
      "\u001b[34m\u001b[1mwandb\u001b[0m: Currently logged in as: \u001b[33mshossain035\u001b[0m. Use \u001b[1m`wandb login --relogin`\u001b[0m to force relogin\n"
     ]
    },
    {
     "data": {
      "text/html": [
       "wandb version 0.14.2 is available!  To upgrade, please run:\n",
       " $ pip install wandb --upgrade"
      ],
      "text/plain": [
       "<IPython.core.display.HTML object>"
      ]
     },
     "metadata": {},
     "output_type": "display_data"
    },
    {
     "data": {
      "text/html": [
       "Tracking run with wandb version 0.13.10"
      ],
      "text/plain": [
       "<IPython.core.display.HTML object>"
      ]
     },
     "metadata": {},
     "output_type": "display_data"
    },
    {
     "data": {
      "text/html": [
       "Run data is saved locally in <code>/Users/shah/Documents/GitHub/alpaca-lora/wandb/run-20230409_165930-7kktscwt</code>"
      ],
      "text/plain": [
       "<IPython.core.display.HTML object>"
      ]
     },
     "metadata": {},
     "output_type": "display_data"
    },
    {
     "data": {
      "text/html": [
       "Syncing run <strong><a href='https://wandb.ai/shossain035/alpaca-lora/runs/7kktscwt' target=\"_blank\">sunny-disco-7</a></strong> to <a href='https://wandb.ai/shossain035/alpaca-lora' target=\"_blank\">Weights & Biases</a> (<a href='https://wandb.me/run' target=\"_blank\">docs</a>)<br/>"
      ],
      "text/plain": [
       "<IPython.core.display.HTML object>"
      ]
     },
     "metadata": {},
     "output_type": "display_data"
    },
    {
     "data": {
      "text/html": [
       " View project at <a href='https://wandb.ai/shossain035/alpaca-lora' target=\"_blank\">https://wandb.ai/shossain035/alpaca-lora</a>"
      ],
      "text/plain": [
       "<IPython.core.display.HTML object>"
      ]
     },
     "metadata": {},
     "output_type": "display_data"
    },
    {
     "data": {
      "text/html": [
       " View run at <a href='https://wandb.ai/shossain035/alpaca-lora/runs/7kktscwt' target=\"_blank\">https://wandb.ai/shossain035/alpaca-lora/runs/7kktscwt</a>"
      ],
      "text/plain": [
       "<IPython.core.display.HTML object>"
      ]
     },
     "metadata": {},
     "output_type": "display_data"
    },
    {
     "data": {
      "text/html": [
       "<button onClick=\"this.nextSibling.style.display='block';this.style.display='none';\">Display W&B run</button><iframe src='https://wandb.ai/shossain035/alpaca-lora/runs/7kktscwt?jupyter=true' style='border:none;width:100%;height:420px;display:none;'></iframe>"
      ],
      "text/plain": [
       "<wandb.sdk.wandb_run.Run at 0x7f9fde417760>"
      ]
     },
     "execution_count": 1,
     "metadata": {},
     "output_type": "execute_result"
    }
   ],
   "source": [
    "import wandb\n",
    "\n",
    "wandb.init()"
   ]
  },
  {
   "cell_type": "code",
   "execution_count": 5,
   "id": "95b0b86d-60bb-4e51-a41c-d4c9751fbd8f",
   "metadata": {
    "tags": []
   },
   "outputs": [],
   "source": [
    "wandb.sagemaker_auth(path=\"./\")"
   ]
  },
  {
   "cell_type": "code",
   "execution_count": 6,
   "id": "81801904-9f1d-4374-ba3c-695281058ee3",
   "metadata": {
    "tags": []
   },
   "outputs": [],
   "source": [
    "pretrained_model_name = \"decapoda-research/llama-7b-hf\"\n",
    "dataset_name = \"yahma/alpaca-cleaned\"\n",
    "WANDB_PROJECT_NAME = \"alpoca-test\""
   ]
  },
  {
   "cell_type": "code",
   "execution_count": 7,
   "id": "a94f7c62-2e07-45a2-8baf-9b261933a4bd",
   "metadata": {
    "tags": []
   },
   "outputs": [],
   "source": [
    "base_job_prefix = \"llama-01\"\n",
    "\n",
    "# Hyperparameters which are passed into the training job\n",
    "hyperparameters = {\n",
    "    \"epochs\": 10,\n",
    "    \"model_name\": pretrained_model_name,\n",
    "    \"data_path\": dataset_name,\n",
    "    \"learning_rate\": 1e-6,\n",
    "    \"warmup_step_ratio\": 0.3,\n",
    "}"
   ]
  },
  {
   "cell_type": "code",
   "execution_count": 8,
   "id": "c6726b07-5937-45e3-957d-e682c14db289",
   "metadata": {
    "tags": []
   },
   "outputs": [],
   "source": [
    "from sagemaker import get_execution_role, Session\n",
    "\n",
    "# from sagemaker.huggingface import HuggingFace\n",
    "\n",
    "from sagemaker.pytorch import PyTorch\n",
    "\n",
    "import sagemaker\n",
    "import boto3\n",
    "import os\n",
    "\n",
    "from dotenv import load_dotenv\n",
    "\n",
    "load_dotenv(\"./.env\")\n",
    "\n",
    "iam_client = boto3.client(\"iam\")\n",
    "role = iam_client.get_role(RoleName=os.getenv(\"AWS_ROLE_NAME\"))[\"Role\"][\"Arn\"]\n",
    "# role = get_execution_role()\n",
    "\n",
    "sess = Session()\n",
    "sagemaker_session_bucket = None\n",
    "if sagemaker_session_bucket is None and sess is not None:\n",
    "    # set to default bucket if a bucket name is not given\n",
    "    sagemaker_session_bucket = sess.default_bucket()\n",
    "\n",
    "base_job_name = f\"{base_job_prefix}-{dataset_name}-{hyperparameters.get('model_name', '')}\".replace(\n",
    "    \"/\", \"-\"\n",
    ")\n",
    "hyperparameters[\"group_name\"] = base_job_name\n",
    "hyperparameters[\"project_name\"] = WANDB_PROJECT_NAME\n",
    "\n",
    "checkpoint_s3_uri = (\n",
    "    f\"s3://{sagemaker_session_bucket}/{base_job_name}/checkpoints\"\n",
    ")\n",
    "\n",
    "env = {\n",
    "    \"SAGEMAKER_REQUIREMENTS\": \"requirements.txt\",  # path relative to `source_dir` below.\n",
    "}\n",
    "\n",
    "# configuration for running training on smdistributed Data Parallel\n",
    "distribution = {\"smdistributed\": {\"dataparallel\": {\"enabled\": True}}}\n",
    "\n",
    "# spot config\n",
    "max_run = 86400 * 5\n",
    "max_wait = max_run + 3600\n",
    "\n",
    "hf_estimator = PyTorch(\n",
    "    entry_point=\"train.py\",\n",
    "    source_dir=\".\",\n",
    "    instance_type=\"ml.g5.xlarge\",\n",
    "    max_run=max_run,\n",
    "    # cluster\n",
    "    instance_count=1,\n",
    "    # instance_count=2,\n",
    "    # distribution=distribution,\n",
    "    role=role,\n",
    "    env=env,\n",
    "    framework_version=\"1.13\",\n",
    "    py_version=\"py39\",\n",
    "    hyperparameters=hyperparameters,\n",
    "    base_job_name=base_job_name,\n",
    "    # spot settings\n",
    "    checkpoint_s3_uri=checkpoint_s3_uri,\n",
    "    use_spot_instances=True,  # enables spot training\n",
    "    max_wait=max_wait,        # max time including spot start + training time\n",
    ")"
   ]
  },
  {
   "cell_type": "code",
   "execution_count": 9,
   "id": "e8b51e1e-a558-4a6b-b7d0-1334633127cf",
   "metadata": {
    "tags": []
   },
   "outputs": [
    {
     "data": {
      "text/plain": [
       "'llama-01-yahma-alpaca-cleaned-decapoda-research-llama-7b-hf'"
      ]
     },
     "execution_count": 9,
     "metadata": {},
     "output_type": "execute_result"
    }
   ],
   "source": [
    "base_job_name"
   ]
  },
  {
   "cell_type": "code",
   "execution_count": 10,
   "id": "30055e56-b3c2-40a5-a49b-fd7ef2a047b5",
   "metadata": {
    "tags": []
   },
   "outputs": [
    {
     "name": "stderr",
     "output_type": "stream",
     "text": [
      "INFO:sagemaker.image_uris:image_uri is not presented, retrieving image_uri based on instance_type, framework etc.\n",
      "INFO:sagemaker:Creating training-job with name: llama-01-yahma-alpaca-cleaned-decapoda--2023-04-10-00-00-14-168\n"
     ]
    }
   ],
   "source": [
    "# Start the training job with the uploaded dataset as input\n",
    "\n",
    "hf_estimator.fit({\n",
    "        \"train\": \"s3://unwind.dev.data/llm/alpaca_data_cleaned/\", \n",
    "        # Not needed for training since we are downloading the dataset from HuggingFacce. \n",
    "        # But, SageMaker seems to complain if you don't provide a downloadable training set.\n",
    "        # So, put a path that is accessible by your SageMaker role.\n",
    "    },\n",
    "    wait=False,\n",
    "    logs=\"Rules\",)"
   ]
  },
  {
   "cell_type": "code",
   "execution_count": null,
   "id": "e01ed498-e004-4296-bb53-2d243544c54c",
   "metadata": {},
   "outputs": [],
   "source": []
  },
  {
   "cell_type": "code",
   "execution_count": null,
   "id": "2154fd16-201d-44f5-a370-06f8bef9bed8",
   "metadata": {},
   "outputs": [],
   "source": []
  },
  {
   "cell_type": "code",
   "execution_count": null,
   "id": "9e0d23b6-f4f2-46b3-835d-6354a22f2b51",
   "metadata": {},
   "outputs": [],
   "source": []
  }
 ],
 "metadata": {
  "kernelspec": {
   "display_name": "sagemaker",
   "language": "python",
   "name": "sagemaker"
  },
  "language_info": {
   "codemirror_mode": {
    "name": "ipython",
    "version": 3
   },
   "file_extension": ".py",
   "mimetype": "text/x-python",
   "name": "python",
   "nbconvert_exporter": "python",
   "pygments_lexer": "ipython3",
   "version": "3.10.9"
  }
 },
 "nbformat": 4,
 "nbformat_minor": 5
}
